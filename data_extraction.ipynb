{
 "cells": [
  {
   "cell_type": "markdown",
   "id": "4ae64d9d-8101-4f53-8d75-eec319a3ead5",
   "metadata": {},
   "source": [
    "# Pendientes:\n",
    "1. Asegurar que las tablas de resultados de qualifyers y carreras tengas las llaves necesarias para cruzarse. **Por piloto, id de carrera, temporada y/o fecha**\n",
    "2. Crear un historial con 20 a 30 carreras anteriores, definir una base de datos para almacenarla y no reprocesar"
   ]
  },
  {
   "cell_type": "markdown",
   "id": "df199ef8-1f11-4517-939b-0b19658244e8",
   "metadata": {},
   "source": [
    "# Consolidacion de datos de F1\n",
    "\n",
    "La idea de este archivo es probar el flujo de las funciones creadas. Para traer los datos de la API, preprocesarlos y tener una tabla final consolidada con las distintas fuentes de datos."
   ]
  },
  {
   "cell_type": "code",
   "execution_count": 3,
   "id": "151238e7-f252-47e4-918f-22cc768cbdae",
   "metadata": {},
   "outputs": [],
   "source": [
    "# Module imports\n",
    "from funcs_data_extraction import *\n",
    "import pandas as pd\n",
    "import numpy as np"
   ]
  },
  {
   "cell_type": "markdown",
   "id": "2ef574e4-8938-457b-bc50-f70d3bed4a9d",
   "metadata": {},
   "source": [
    "## 1. Extraccion de datos de resultados de Qualifiers y de Carreras"
   ]
  },
  {
   "cell_type": "markdown",
   "id": "def464e2-bcaa-4ce4-9a40-723f69647abe",
   "metadata": {},
   "source": [
    "**Definicion de parametros iniciales del modelo**"
   ]
  },
  {
   "cell_type": "code",
   "execution_count": 6,
   "id": "1b6e8eb6-97c4-4233-b644-9ee1b49f5176",
   "metadata": {},
   "outputs": [],
   "source": [
    "# Se calculara los resultados con las 10 carreras anteriores.\n",
    "season_years = [2021, 2022, 2023]"
   ]
  },
  {
   "cell_type": "markdown",
   "id": "d42b272c-4e63-4d8a-a68c-a1e034bfd569",
   "metadata": {},
   "source": [
    "### 1.1 Extraccion y transformacion de datos de Qualifiers"
   ]
  },
  {
   "cell_type": "code",
   "execution_count": 8,
   "id": "9a73b695-175c-4926-a2b3-465039fa826f",
   "metadata": {},
   "outputs": [],
   "source": [
    "# Codigo para extraer la informacion de de qualifyers en las temporadas definidas inicialmente\n",
    "# Se obtiene una lista de diccionarios\n",
    "seasons = []\n",
    "for year in season_years:\n",
    "    seasons.append(get_season_qualifying_results(year))"
   ]
  },
  {
   "cell_type": "code",
   "execution_count": 9,
   "id": "124843bb-b4a6-41ed-8e8a-f2b822322812",
   "metadata": {},
   "outputs": [],
   "source": [
    "# Se obtiene una lista de dataframes con los datos de cada ronda de las temporadas\n",
    "quali_df_list = []\n",
    "for s_idx, season_obj in enumerate(seasons):\n",
    "    for i in range(len(season_obj)):\n",
    "        quali_df_list.append(get_round_qualifying_results(season_obj, i+1))"
   ]
  },
  {
   "cell_type": "code",
   "execution_count": 10,
   "id": "5b0786d2-c9c3-4ed5-b4da-09c15954a0c5",
   "metadata": {},
   "outputs": [],
   "source": [
    "quali_df_list = [df for df in quali_df_list if df is not None]\n",
    "qualifyer_df = pd.concat(quali_df_list)"
   ]
  },
  {
   "cell_type": "code",
   "execution_count": 11,
   "id": "248dc878-1789-40a6-aba1-6b797f5bc403",
   "metadata": {},
   "outputs": [],
   "source": [
    "# Falta paso de preprocesar informacion para que quede en milisegundos los tiempos\n",
    "def get_milisec_from_textTime(Q_time):\n",
    "    if not Q_time:\n",
    "        return None\n",
    "    mins_s_and_ms = Q_time.split(':')\n",
    "    mins = int(mins_s_and_ms[0])\n",
    "    mins_in_ms = mins*60000\n",
    "    ms_from_s_and_ms = float(mins_s_and_ms[1])*1000\n",
    "    return int(mins_in_ms + ms_from_s_and_ms)\n"
   ]
  },
  {
   "cell_type": "code",
   "execution_count": 12,
   "id": "1a4f32a7-0a3b-4233-88f7-cc13cf930b8c",
   "metadata": {},
   "outputs": [],
   "source": [
    "qualifyer_df['Q1_time_ms'] = qualifyer_df['best_time_Q1'].apply(get_milisec_from_textTime)\n",
    "qualifyer_df['Q2_time_ms'] = qualifyer_df['best_time_Q2'].apply(get_milisec_from_textTime)\n",
    "qualifyer_df['Q3_time_ms'] = qualifyer_df['best_time_Q3'].apply(get_milisec_from_textTime)"
   ]
  },
  {
   "cell_type": "code",
   "execution_count": 13,
   "id": "7bf18e9a-08bf-4898-aea1-15daffc98b01",
   "metadata": {},
   "outputs": [],
   "source": [
    "# extraccion de informacion\n",
    "# Define the conversion dictionary\n",
    "convert_dict = {'season': int, 'round_number': int}\n",
    "qualifyer_df = qualifyer_df.astype(convert_dict)"
   ]
  },
  {
   "cell_type": "code",
   "execution_count": 14,
   "id": "f9f88455-7739-4e12-b546-b6281b433e08",
   "metadata": {},
   "outputs": [],
   "source": [
    "# Función para agregar horas y convertir a Timedelta\n",
    "def agregar_horas(t):\n",
    "    if t is None:\n",
    "        return pd.NaT\n",
    "    try:\n",
    "        # Separar minutos y segundos.milisegundos\n",
    "        minutos, segundos_milisegundos = t.split(':')\n",
    "        # Formatear el tiempo agregando horas \"00:\"\n",
    "        nuevo_formato = f\"00:{int(minutos):02}:{segundos_milisegundos}\"\n",
    "        return nuevo_formato\n",
    "    except ValueError:\n",
    "        return None\n",
    "        \n",
    "qualifyer_df['best_time_Q1_TD'] = qualifyer_df['best_time_Q1'].apply(agregar_horas)\n",
    "qualifyer_df['best_time_Q1_TD'] = pd.to_timedelta(qualifyer_df['best_time_Q1_TD'])\n",
    "\n",
    "qualifyer_df['best_time_Q2_TD'] = qualifyer_df['best_time_Q2'].apply(agregar_horas)\n",
    "qualifyer_df['best_time_Q2_TD'] = pd.to_timedelta(qualifyer_df['best_time_Q2_TD'])\n",
    "\n",
    "qualifyer_df['best_time_Q3_TD'] = qualifyer_df['best_time_Q3'].apply(agregar_horas)\n",
    "qualifyer_df['best_time_Q3_TD'] = pd.to_timedelta(qualifyer_df['best_time_Q3_TD'])"
   ]
  },
  {
   "cell_type": "code",
   "execution_count": 15,
   "id": "b3c2887e-a961-44c8-b664-d812580b6a52",
   "metadata": {},
   "outputs": [],
   "source": [
    "# Melted con datos timedelta\n",
    "# Transformacion de datos de los Qi_time_ms\n",
    "timedeltas_melted_df = qualifyer_df.melt(id_vars=['season', 'race_name', 'fullname'],\n",
    "                              value_vars=['best_time_Q1_TD', 'best_time_Q2_TD', 'best_time_Q3_TD'],\n",
    "                              var_name='numero_quali', value_name='tiempo_TD'\n",
    "                             )\n",
    "\n",
    "# Ajustar la columna 'numero_quali' para que solo contenga el número de clasificación\n",
    "timedeltas_melted_df['numero_quali'] = timedeltas_melted_df['numero_quali'].str.extract('(\\d)').astype(int)"
   ]
  },
  {
   "cell_type": "code",
   "execution_count": 16,
   "id": "3ff5ec8c-d357-42cb-93de-915357dc3e35",
   "metadata": {},
   "outputs": [],
   "source": [
    "# Transformacion de datos de los Qi_time_ms\n",
    "melted_df = qualifyer_df.melt(id_vars=['season', 'race_name', 'fullname'],\n",
    "                              value_vars=['Q1_time_ms', 'Q2_time_ms', 'Q3_time_ms'],\n",
    "                              var_name='numero_quali', value_name='tiempo_ms'\n",
    "                             )\n",
    "\n",
    "# Ajustar la columna 'numero_quali' para que solo contenga el número de clasificación\n",
    "melted_df['numero_quali'] = melted_df['numero_quali'].str.extract('(\\d)').astype(int)"
   ]
  },
  {
   "cell_type": "code",
   "execution_count": 17,
   "id": "ec5189fa-bfbb-4deb-993f-7b5a0ae7c203",
   "metadata": {},
   "outputs": [],
   "source": [
    "# Merge de tablas melted\n",
    "final_melted_df = melted_df.merge(timedeltas_melted_df, how='left', on=['season', 'race_name', 'fullname', 'numero_quali'])\n",
    "# final_melted_df.head()"
   ]
  },
  {
   "cell_type": "code",
   "execution_count": 18,
   "id": "e10d750c-002e-4fde-8eb9-0aa1854345f6",
   "metadata": {},
   "outputs": [],
   "source": [
    "# Ahora encontramos el tiempo menor agrupando por season, race_name y numero_quali\n",
    "\n",
    "mejor_en_qualis_df = final_melted_df.groupby(['season','race_name','numero_quali'])\\\n",
    "                            .agg(tiempo_min_ms = pd.NamedAgg(column='tiempo_ms', aggfunc='min')\n",
    "                                 ,tiempo_min_TD = pd.NamedAgg(column='tiempo_TD', aggfunc='min')\n",
    "                            )\n",
    "mejor_en_qualis_df = mejor_en_qualis_df.sort_values(by='tiempo_min_ms', ascending=False)"
   ]
  },
  {
   "cell_type": "code",
   "execution_count": 19,
   "id": "74bbe3d8-26c0-4c7e-9aaa-69e19df16a80",
   "metadata": {},
   "outputs": [],
   "source": [
    "# Cruce con tabla inicial\n",
    "# esas mismas llaves nos permiten ponenr el valor al lado para luego calcular la resta de tiempo_ms - mejor_tiempo_ms\n",
    "table_with_best_per_quali_df = final_melted_df.merge(mejor_en_qualis_df, how='left'\n",
    "                                                  , on=[\"season\", \"race_name\", \"numero_quali\"]\n",
    "                                                 )\n",
    "table_with_best_per_quali_df['diff_ms_with_1st_in_quali'] = table_with_best_per_quali_df['tiempo_ms'] - table_with_best_per_quali_df['tiempo_min_ms']\n",
    "table_with_best_per_quali_df['diff_TD_with_1st_in_quali'] = table_with_best_per_quali_df['tiempo_TD'] - table_with_best_per_quali_df['tiempo_min_TD']"
   ]
  },
  {
   "cell_type": "code",
   "execution_count": 20,
   "id": "8988212a-359a-46da-a5ae-31004c6f9774",
   "metadata": {},
   "outputs": [],
   "source": [
    "# Aca se busca donde la diferencia en milisegundos sea negativa con el primero para dejar en NaN el tiempo en milisegundos\n",
    "table_with_best_per_quali_df.loc[table_with_best_per_quali_df['diff_ms_with_1st_in_quali']<0, 'diff_ms_with_1st_in_quali'] = np.nan\n",
    "table_with_best_per_quali_df.loc[table_with_best_per_quali_df['diff_ms_with_1st_in_quali'].isna(), 'tiempo_ms'] = np.nan\n",
    "\n",
    "# Como la columna en milisegundoso ya tiene NaN (los que no tienen resultados de quali y quedaron en 0 tras alguuna transformacion)\n",
    "# Ahora buscamos esas filas del diff en ms donde hay nan y el timedelta lo dejamos en NaN \n",
    "table_with_best_per_quali_df.loc[table_with_best_per_quali_df['diff_ms_with_1st_in_quali'].isna(), 'diff_TD_with_1st_in_quali'] = np.nan\n",
    "table_with_best_per_quali_df.loc[table_with_best_per_quali_df['diff_ms_with_1st_in_quali'].isna(), 'tiempo_TD'] = np.nan"
   ]
  },
  {
   "cell_type": "code",
   "execution_count": 21,
   "id": "0b072b2e-0f0e-46da-ba1a-e32c77bcd77b",
   "metadata": {},
   "outputs": [],
   "source": [
    "# Función para convertir Timedelta a formato \"HH:MM:SS.fff\"\n",
    "def convertir_a_formato(timedelta):\n",
    "    if timedelta is np.nan or timedelta is pd.NaT:\n",
    "        return None\n",
    "    total_seconds = timedelta.total_seconds()\n",
    "    hours = int(total_seconds // 3600)\n",
    "    minutes = int((total_seconds % 3600) // 60)\n",
    "    seconds = int(total_seconds % 60)\n",
    "    milliseconds = int((total_seconds % 1) * 1000)\n",
    "    return f\"{hours:02}:{minutes:02}:{seconds:02}.{milliseconds:03}\""
   ]
  },
  {
   "cell_type": "code",
   "execution_count": 22,
   "id": "e206575f-6cbd-49e5-9e32-d77c7a9abdf7",
   "metadata": {},
   "outputs": [],
   "source": [
    "table_with_best_per_quali_df['tiempo_TD'] = table_with_best_per_quali_df['tiempo_TD'].apply(convertir_a_formato)\n",
    "table_with_best_per_quali_df['diff_TD_with_1st_in_quali'] = table_with_best_per_quali_df['diff_TD_with_1st_in_quali'].apply(convertir_a_formato)"
   ]
  },
  {
   "cell_type": "markdown",
   "id": "cddb878a-758c-43e1-aff1-bf8263fe3b44",
   "metadata": {},
   "source": [
    "# Pendiente\n",
    "**Principal**:\n",
    "-  corregir diff_TD_with_1st_in_quali a formato de Power BI\n",
    "\n",
    "**Segundario**\n",
    "- Corregir procesos para que sea en mas sencillo la transformacion al formato adecuado de Power BI"
   ]
  },
  {
   "cell_type": "code",
   "execution_count": 44,
   "id": "b2971a11-3e13-4499-a00e-03950a5eee75",
   "metadata": {},
   "outputs": [],
   "source": [
    "# Exportacion ded la tabla agrupada de los tiempos\n",
    "table_with_best_per_quali_df.to_csv('grouped_season_race_drive_nq.csv', index=False)"
   ]
  }
 ],
 "metadata": {
  "kernelspec": {
   "display_name": "Python (venv)",
   "language": "python",
   "name": "venv"
  },
  "language_info": {
   "codemirror_mode": {
    "name": "ipython",
    "version": 3
   },
   "file_extension": ".py",
   "mimetype": "text/x-python",
   "name": "python",
   "nbconvert_exporter": "python",
   "pygments_lexer": "ipython3",
   "version": "3.11.9"
  }
 },
 "nbformat": 4,
 "nbformat_minor": 5
}
