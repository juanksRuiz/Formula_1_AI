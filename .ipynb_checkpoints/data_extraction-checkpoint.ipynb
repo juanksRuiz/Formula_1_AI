{
 "cells": [
  {
   "cell_type": "markdown",
   "id": "4ae64d9d-8101-4f53-8d75-eec319a3ead5",
   "metadata": {},
   "source": [
    "# Pendientes:\n",
    "1. Asegurar que las tablas de resultados de qualifyers y carreras tengas las llaves necesarias para cruzarse. **Por piloto, id de carrera, temporada y/o fecha**\n",
    "2. Crear un historial con 20 a 30 carreras anteriores, definir una base de datos para almacenarla y no reprocesar"
   ]
  },
  {
   "cell_type": "markdown",
   "id": "df199ef8-1f11-4517-939b-0b19658244e8",
   "metadata": {},
   "source": [
    "# Consolidacion de datos de F1\n",
    "\n",
    "La idea de este archivo es probar el flujo de las funciones creadas. Para traer los datos de la API, preprocesarlos y tener una tabla final consolidada con las distintas fuentes de datos."
   ]
  },
  {
   "cell_type": "code",
   "execution_count": 1,
   "id": "d18fdf98-2e53-4b3e-b180-6297efc6d678",
   "metadata": {},
   "outputs": [],
   "source": [
    "%load_ext autoreload\n",
    "%autoreload 2"
   ]
  },
  {
   "cell_type": "code",
   "execution_count": 3,
   "id": "151238e7-f252-47e4-918f-22cc768cbdae",
   "metadata": {},
   "outputs": [],
   "source": [
    "# Module imports\n",
    "from funcs_data_extraction import *\n",
    "import pandas as pd\n",
    "import numpy as np"
   ]
  },
  {
   "cell_type": "markdown",
   "id": "2ef574e4-8938-457b-bc50-f70d3bed4a9d",
   "metadata": {},
   "source": [
    "## 1. Extraccion de datos de resultados de Qualifiers y de Carreras"
   ]
  },
  {
   "cell_type": "markdown",
   "id": "def464e2-bcaa-4ce4-9a40-723f69647abe",
   "metadata": {},
   "source": [
    "**Definicion de parametros iniciales del modelo**"
   ]
  },
  {
   "cell_type": "code",
   "execution_count": 6,
   "id": "1b6e8eb6-97c4-4233-b644-9ee1b49f5176",
   "metadata": {},
   "outputs": [],
   "source": [
    "# Se calculara los resultados con las 10 carreras anteriores.\n",
    "season_years = [2021, 2022, 2023]\n",
    "round_wdw = 10\n",
    "prediction_round = 11 # si es inferior a 10, crear flujo para las carreras\n",
    "# de la ronda anterior"
   ]
  },
  {
   "cell_type": "markdown",
   "id": "d42b272c-4e63-4d8a-a68c-a1e034bfd569",
   "metadata": {},
   "source": [
    "### 1.1 Extraccion y transformacion de datos de Qualifiers"
   ]
  },
  {
   "cell_type": "code",
   "execution_count": 10,
   "id": "9a73b695-175c-4926-a2b3-465039fa826f",
   "metadata": {},
   "outputs": [],
   "source": [
    "# Codigo para extraer la informacion de de qualifyers\n",
    "seasons = []\n",
    "for year in season_years:\n",
    "    seasons.append(get_season_qualifying_results(year))"
   ]
  },
  {
   "cell_type": "code",
   "execution_count": 15,
   "id": "124843bb-b4a6-41ed-8e8a-f2b822322812",
   "metadata": {},
   "outputs": [],
   "source": [
    "quali_df_list = []\n",
    "for s_idx, season_obj in enumerate(seasons):\n",
    "    for i in range(len(season_obj)):\n",
    "        quali_df_list.append(get_round_qualifying_results(season_obj, i+1))"
   ]
  },
  {
   "cell_type": "code",
   "execution_count": null,
   "id": "5b0786d2-c9c3-4ed5-b4da-09c15954a0c5",
   "metadata": {},
   "outputs": [],
   "source": [
    "quali_df_list = [df for df in quali_df_list if df is not None]\n",
    "qualifyer_df = pd.concat(quali_df_list)"
   ]
  },
  {
   "cell_type": "code",
   "execution_count": null,
   "id": "905f162d-3bef-4f26-8459-3b37ba648cd4",
   "metadata": {},
   "outputs": [],
   "source": [
    "qualifyer_df.sample(5)"
   ]
  },
  {
   "cell_type": "code",
   "execution_count": null,
   "id": "40d5f35b-0f49-4d30-9e98-e114e2859cc8",
   "metadata": {},
   "outputs": [],
   "source": [
    "# Agregar id de evento de la carrera, nombre de circuito y anio de la carrera\n"
   ]
  },
  {
   "cell_type": "code",
   "execution_count": null,
   "id": "248dc878-1789-40a6-aba1-6b797f5bc403",
   "metadata": {},
   "outputs": [],
   "source": [
    "# Falta paso de preprocesar informacion para que quede en segundos los tiempos"
   ]
  },
  {
   "cell_type": "markdown",
   "id": "02445623-dc99-4673-a5e2-916feb62c6d7",
   "metadata": {},
   "source": [
    "### 1.2 Extraccion y transformacion de datos de Carreras"
   ]
  },
  {
   "cell_type": "markdown",
   "id": "9b3ace36-c968-4700-a1bc-a88d7120ba17",
   "metadata": {},
   "source": [
    "## Pendientes:\n",
    "- Falta agregar los datos de la carrera para cada ronda\n",
    "- Falta agregar datos de la ronda de la cual se predice resultados, incluye los datos de Qualis y datos de la carrera"
   ]
  },
  {
   "cell_type": "code",
   "execution_count": 9,
   "id": "322fb531-f86e-43ad-8d23-a778c22ec852",
   "metadata": {},
   "outputs": [
    {
     "name": "stdout",
     "output_type": "stream",
     "text": [
      "Collecting  data from season 2023...\n",
      "Data collection from season 2023 successful!\n",
      "Concatenating data...\n"
     ]
    }
   ],
   "source": [
    "if prediction_round > round_wdw:\n",
    "    # Obtencion de todos los datos de carrera de una temporada\n",
    "    max_season = max(season_years)\n",
    "    print('Collecting  data from season {temp}...'.format(temp=max_season))\n",
    "    season_race_data = get_season_race_results(max_season)\n",
    "    print('Data collection from season {temp} successful!'.format(temp=max_season))\n",
    "    print('Concatenating data...')"
   ]
  },
  {
   "cell_type": "code",
   "execution_count": 11,
   "id": "2d54d1f7-56f3-4f44-a6f5-47095aad090b",
   "metadata": {},
   "outputs": [
    {
     "data": {
      "text/plain": [
       "[]"
      ]
     },
     "execution_count": 11,
     "metadata": {},
     "output_type": "execute_result"
    }
   ],
   "source": [
    "season_race_data"
   ]
  },
  {
   "cell_type": "markdown",
   "id": "a2ca4c23-45f9-4155-9502-247b9e20fd9b",
   "metadata": {},
   "source": [
    "## 2. Analisis Exploratorio de Datos\n",
    "**Realizar EDA en otro notebook**\n",
    "\n",
    "Explorar 2 relaciones especificamente:\n",
    "- Relacion de los resultados de la quali de la misma ronda con los resultados de la carrera de esa ronda\n",
    "- Relacion entre los resultados de rondas anteriores con los de la carrera de la ronda a predecir."
   ]
  },
  {
   "cell_type": "code",
   "execution_count": null,
   "id": "7fed3448-e356-4557-bba1-1aa19e2da670",
   "metadata": {},
   "outputs": [],
   "source": []
  },
  {
   "cell_type": "code",
   "execution_count": null,
   "id": "38ca2a65-f707-4e7a-87a0-809833d7a75d",
   "metadata": {},
   "outputs": [],
   "source": []
  }
 ],
 "metadata": {
  "kernelspec": {
   "display_name": "Python (venv)",
   "language": "python",
   "name": "venv"
  },
  "language_info": {
   "codemirror_mode": {
    "name": "ipython",
    "version": 3
   },
   "file_extension": ".py",
   "mimetype": "text/x-python",
   "name": "python",
   "nbconvert_exporter": "python",
   "pygments_lexer": "ipython3",
   "version": "3.11.9"
  }
 },
 "nbformat": 4,
 "nbformat_minor": 5
}
