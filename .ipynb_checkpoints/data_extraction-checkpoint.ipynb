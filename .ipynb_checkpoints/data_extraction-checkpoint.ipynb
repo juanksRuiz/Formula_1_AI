{
 "cells": [
  {
   "cell_type": "markdown",
   "id": "4ae64d9d-8101-4f53-8d75-eec319a3ead5",
   "metadata": {},
   "source": [
    "# Pendientes:\n",
    "1. Asegurar que las tablas de resultados de qualifyers y carreras tengas las llaves necesarias para cruzarse. **Por piloto, id de carrera, temporada y/o fecha**\n",
    "2. Crear un historial con 20 a 30 carreras anteriores, definir una base de datos para almacenarla y no reprocesar"
   ]
  },
  {
   "cell_type": "markdown",
   "id": "df199ef8-1f11-4517-939b-0b19658244e8",
   "metadata": {},
   "source": [
    "# Consolidacion de datos de F1\n",
    "\n",
    "La idea de este archivo es probar el flujo de las funciones creadas. Para traer los datos de la API, preprocesarlos y tener una tabla final consolidada con las distintas fuentes de datos."
   ]
  },
  {
   "cell_type": "code",
   "execution_count": 1,
   "id": "151238e7-f252-47e4-918f-22cc768cbdae",
   "metadata": {},
   "outputs": [],
   "source": [
    "# Module imports\n",
    "from funcs_data_extraction import *\n",
    "import pandas as pd\n",
    "import numpy as np"
   ]
  },
  {
   "cell_type": "markdown",
   "id": "2ef574e4-8938-457b-bc50-f70d3bed4a9d",
   "metadata": {},
   "source": [
    "## 1. Extraccion de datos de resultados de Qualifiers y de Carreras"
   ]
  },
  {
   "cell_type": "markdown",
   "id": "def464e2-bcaa-4ce4-9a40-723f69647abe",
   "metadata": {},
   "source": [
    "**Definicion de parametros iniciales del modelo**"
   ]
  },
  {
   "cell_type": "code",
   "execution_count": 4,
   "id": "1b6e8eb6-97c4-4233-b644-9ee1b49f5176",
   "metadata": {},
   "outputs": [],
   "source": [
    "# Se calculara los resultados con las 10 carreras anteriores.\n",
    "season_years = [2021, 2022, 2023]"
   ]
  },
  {
   "cell_type": "markdown",
   "id": "d42b272c-4e63-4d8a-a68c-a1e034bfd569",
   "metadata": {},
   "source": [
    "### 1.1 Extraccion y transformacion de datos de Qualifiers"
   ]
  },
  {
   "cell_type": "code",
   "execution_count": 6,
   "id": "9a73b695-175c-4926-a2b3-465039fa826f",
   "metadata": {},
   "outputs": [],
   "source": [
    "# Codigo para extraer la informacion de de qualifyers en las temporadas definidas inicialmente\n",
    "# Se obtiene una lista de diccionarios\n",
    "seasons = []\n",
    "for year in season_years:\n",
    "    seasons.append(get_season_qualifying_results(year))"
   ]
  },
  {
   "cell_type": "code",
   "execution_count": 7,
   "id": "124843bb-b4a6-41ed-8e8a-f2b822322812",
   "metadata": {},
   "outputs": [],
   "source": [
    "# Se obtiene una lista de dataframes con los datos de cada ronda de las temporadas\n",
    "quali_df_list = []\n",
    "for s_idx, season_obj in enumerate(seasons):\n",
    "    for i in range(len(season_obj)):\n",
    "        quali_df_list.append(get_round_qualifying_results(season_obj, i+1))"
   ]
  },
  {
   "cell_type": "code",
   "execution_count": 8,
   "id": "5b0786d2-c9c3-4ed5-b4da-09c15954a0c5",
   "metadata": {},
   "outputs": [],
   "source": [
    "quali_df_list = [df for df in quali_df_list if df is not None]\n",
    "qualifyer_df = pd.concat(quali_df_list)"
   ]
  },
  {
   "cell_type": "code",
   "execution_count": 9,
   "id": "248dc878-1789-40a6-aba1-6b797f5bc403",
   "metadata": {},
   "outputs": [],
   "source": [
    "# Falta paso de preprocesar informacion para que quede en milisegundos los tiempos\n",
    "def get_milisec_from_textTime(Q_time):\n",
    "    if not Q_time:\n",
    "        return None\n",
    "    mins_s_and_ms = Q_time.split(':')\n",
    "    mins = int(mins_s_and_ms[0])\n",
    "    mins_in_ms = mins*60000\n",
    "    ms_from_s_and_ms = float(mins_s_and_ms[1])*1000\n",
    "    return int(mins_in_ms + ms_from_s_and_ms)\n"
   ]
  },
  {
   "cell_type": "code",
   "execution_count": 10,
   "id": "1a4f32a7-0a3b-4233-88f7-cc13cf930b8c",
   "metadata": {},
   "outputs": [],
   "source": [
    "qualifyer_df['Q1_time_ms'] = qualifyer_df['best_time_Q1'].apply(get_milisec_from_textTime)\n",
    "qualifyer_df['Q2_time_ms'] = qualifyer_df['best_time_Q2'].apply(get_milisec_from_textTime)\n",
    "qualifyer_df['Q3_time_ms'] = qualifyer_df['best_time_Q3'].apply(get_milisec_from_textTime)"
   ]
  },
  {
   "cell_type": "code",
   "execution_count": 11,
   "id": "7bf18e9a-08bf-4898-aea1-15daffc98b01",
   "metadata": {},
   "outputs": [],
   "source": [
    "# extraccion de informacion\n",
    "# Define the conversion dictionary\n",
    "convert_dict = {'season': int, 'round_number': int}\n",
    "qualifyer_df = qualifyer_df.astype(convert_dict)"
   ]
  },
  {
   "cell_type": "code",
   "execution_count": 12,
   "id": "f9f88455-7739-4e12-b546-b6281b433e08",
   "metadata": {},
   "outputs": [],
   "source": [
    "# Función para agregar horas y convertir a Timedelta\n",
    "def agregar_horas(t):\n",
    "    if t is None:\n",
    "        return pd.NaT\n",
    "    try:\n",
    "        # Separar minutos y segundos.milisegundos\n",
    "        minutos, segundos_milisegundos = t.split(':')\n",
    "        # Formatear el tiempo agregando horas \"00:\"\n",
    "        nuevo_formato = f\"00:{int(minutos):02}:{segundos_milisegundos}\"\n",
    "        return nuevo_formato\n",
    "    except ValueError:\n",
    "        return None\n",
    "        \n",
    "qualifyer_df['best_time_Q1_TD'] = qualifyer_df['best_time_Q1'].apply(agregar_horas)\n",
    "qualifyer_df['best_time_Q1_TD'] = pd.to_timedelta(qualifyer_df['best_time_Q1_TD'])\n",
    "\n",
    "qualifyer_df['best_time_Q2_TD'] = qualifyer_df['best_time_Q2'].apply(agregar_horas)\n",
    "qualifyer_df['best_time_Q2_TD'] = pd.to_timedelta(qualifyer_df['best_time_Q2_TD'])\n",
    "\n",
    "qualifyer_df['best_time_Q3_TD'] = qualifyer_df['best_time_Q3'].apply(agregar_horas)\n",
    "qualifyer_df['best_time_Q3_TD'] = pd.to_timedelta(qualifyer_df['best_time_Q3_TD'])"
   ]
  },
  {
   "cell_type": "code",
   "execution_count": 13,
   "id": "b3c2887e-a961-44c8-b664-d812580b6a52",
   "metadata": {},
   "outputs": [],
   "source": [
    "# Melted con datos timedelta\n",
    "# Transformacion de datos de los Qi_time_ms\n",
    "timedeltas_melted_df = qualifyer_df.melt(id_vars=['season', 'race_name', 'fullname'],\n",
    "                              value_vars=['best_time_Q1_TD', 'best_time_Q2_TD', 'best_time_Q3_TD'],\n",
    "                              var_name='numero_quali', value_name='tiempo_TD'\n",
    "                             )\n",
    "\n",
    "# Ajustar la columna 'numero_quali' para que solo contenga el número de clasificación\n",
    "timedeltas_melted_df['numero_quali'] = timedeltas_melted_df['numero_quali'].str.extract('(\\d)').astype(int)"
   ]
  },
  {
   "cell_type": "code",
   "execution_count": 14,
   "id": "3ff5ec8c-d357-42cb-93de-915357dc3e35",
   "metadata": {},
   "outputs": [],
   "source": [
    "# Transformacion de datos de los Qi_time_ms\n",
    "melted_df = qualifyer_df.melt(id_vars=['season', 'race_name', 'fullname'],\n",
    "                              value_vars=['Q1_time_ms', 'Q2_time_ms', 'Q3_time_ms'],\n",
    "                              var_name='numero_quali', value_name='tiempo_ms'\n",
    "                             )\n",
    "\n",
    "# Ajustar la columna 'numero_quali' para que solo contenga el número de clasificación\n",
    "melted_df['numero_quali'] = melted_df['numero_quali'].str.extract('(\\d)').astype(int)"
   ]
  },
  {
   "cell_type": "code",
   "execution_count": 15,
   "id": "ec5189fa-bfbb-4deb-993f-7b5a0ae7c203",
   "metadata": {},
   "outputs": [
    {
     "data": {
      "text/html": [
       "<div>\n",
       "<style scoped>\n",
       "    .dataframe tbody tr th:only-of-type {\n",
       "        vertical-align: middle;\n",
       "    }\n",
       "\n",
       "    .dataframe tbody tr th {\n",
       "        vertical-align: top;\n",
       "    }\n",
       "\n",
       "    .dataframe thead th {\n",
       "        text-align: right;\n",
       "    }\n",
       "</style>\n",
       "<table border=\"1\" class=\"dataframe\">\n",
       "  <thead>\n",
       "    <tr style=\"text-align: right;\">\n",
       "      <th></th>\n",
       "      <th>season</th>\n",
       "      <th>race_name</th>\n",
       "      <th>fullname</th>\n",
       "      <th>numero_quali</th>\n",
       "      <th>tiempo_ms</th>\n",
       "      <th>tiempo_TD</th>\n",
       "    </tr>\n",
       "  </thead>\n",
       "  <tbody>\n",
       "    <tr>\n",
       "      <th>0</th>\n",
       "      <td>2021</td>\n",
       "      <td>Bahrain Grand Prix</td>\n",
       "      <td>Max Verstappen</td>\n",
       "      <td>1</td>\n",
       "      <td>90499.0</td>\n",
       "      <td>0 days 00:01:30.499000</td>\n",
       "    </tr>\n",
       "    <tr>\n",
       "      <th>1</th>\n",
       "      <td>2021</td>\n",
       "      <td>Bahrain Grand Prix</td>\n",
       "      <td>Lewis Hamilton</td>\n",
       "      <td>1</td>\n",
       "      <td>90617.0</td>\n",
       "      <td>0 days 00:01:30.617000</td>\n",
       "    </tr>\n",
       "    <tr>\n",
       "      <th>2</th>\n",
       "      <td>2021</td>\n",
       "      <td>Bahrain Grand Prix</td>\n",
       "      <td>Valtteri Bottas</td>\n",
       "      <td>1</td>\n",
       "      <td>91200.0</td>\n",
       "      <td>0 days 00:01:31.200000</td>\n",
       "    </tr>\n",
       "    <tr>\n",
       "      <th>3</th>\n",
       "      <td>2021</td>\n",
       "      <td>Bahrain Grand Prix</td>\n",
       "      <td>Charles Leclerc</td>\n",
       "      <td>1</td>\n",
       "      <td>90691.0</td>\n",
       "      <td>0 days 00:01:30.691000</td>\n",
       "    </tr>\n",
       "    <tr>\n",
       "      <th>4</th>\n",
       "      <td>2021</td>\n",
       "      <td>Bahrain Grand Prix</td>\n",
       "      <td>Pierre Gasly</td>\n",
       "      <td>1</td>\n",
       "      <td>90848.0</td>\n",
       "      <td>0 days 00:01:30.848000</td>\n",
       "    </tr>\n",
       "  </tbody>\n",
       "</table>\n",
       "</div>"
      ],
      "text/plain": [
       "   season           race_name         fullname  numero_quali  tiempo_ms  \\\n",
       "0    2021  Bahrain Grand Prix   Max Verstappen             1    90499.0   \n",
       "1    2021  Bahrain Grand Prix   Lewis Hamilton             1    90617.0   \n",
       "2    2021  Bahrain Grand Prix  Valtteri Bottas             1    91200.0   \n",
       "3    2021  Bahrain Grand Prix  Charles Leclerc             1    90691.0   \n",
       "4    2021  Bahrain Grand Prix     Pierre Gasly             1    90848.0   \n",
       "\n",
       "               tiempo_TD  \n",
       "0 0 days 00:01:30.499000  \n",
       "1 0 days 00:01:30.617000  \n",
       "2 0 days 00:01:31.200000  \n",
       "3 0 days 00:01:30.691000  \n",
       "4 0 days 00:01:30.848000  "
      ]
     },
     "execution_count": 15,
     "metadata": {},
     "output_type": "execute_result"
    }
   ],
   "source": [
    "# Merge de tablas melted\n",
    "final_melted_df = melted_df.merge(timedeltas_melted_df, how='left', on=['season', 'race_name', 'fullname', 'numero_quali'])\n",
    "# final_melted_df.head()"
   ]
  },
  {
   "cell_type": "code",
   "execution_count": 23,
   "id": "e10d750c-002e-4fde-8eb9-0aa1854345f6",
   "metadata": {},
   "outputs": [],
   "source": [
    "# Ahora encontramos el tiempo menor agrupando por season, race_name y numero_quali\n",
    "\n",
    "mejor_en_qualis_df = final_melted_df.groupby(['season','race_name','numero_quali'])\\\n",
    "                            .agg(tiempo_min_ms = pd.NamedAgg(column='tiempo_ms', aggfunc='min')\n",
    "                                 ,tiempo_min_TD = pd.NamedAgg(column='tiempo_TD', aggfunc='min')\n",
    "                            )\n",
    "mejor_en_qualis_df = mejor_en_qualis_df.sort_values(by='tiempo_min_ms', ascending=False)"
   ]
  },
  {
   "cell_type": "code",
   "execution_count": 31,
   "id": "74bbe3d8-26c0-4c7e-9aaa-69e19df16a80",
   "metadata": {},
   "outputs": [],
   "source": [
    "# Cruce con tabla inicial\n",
    "# esas mismas llaves nos permiten ponenr el valor al lado para luego calcular la resta de tiempo_ms - mejor_tiempo_ms\n",
    "table_with_best_per_quali_df = final_melted_df.merge(mejor_en_qualis_df, how='left'\n",
    "                                                  , on=[\"season\", \"race_name\", \"numero_quali\"]\n",
    "                                                 )\n",
    "table_with_best_per_quali_df['diff_ms_with_1st_in_quali'] = table_with_best_per_quali_df['tiempo_ms'] - table_with_best_per_quali_df['tiempo_min_ms']\n",
    "table_with_best_per_quali_df['diff_TD_with_1st_in_quali'] = table_with_best_per_quali_df['tiempo_TD'] - table_with_best_per_quali_df['tiempo_min_TD']"
   ]
  },
  {
   "cell_type": "code",
   "execution_count": 47,
   "id": "8988212a-359a-46da-a5ae-31004c6f9774",
   "metadata": {},
   "outputs": [],
   "source": [
    "# Aca se busca donde la diferencia en milisegundos sea negativa con el primero para dejar en NaN el tiempo en milisegundos\n",
    "table_with_best_per_quali_df.loc[table_with_best_per_quali_df['diff_ms_with_1st_in_quali']<0, 'diff_ms_with_1st_in_quali'] = np.nan\n",
    "table_with_best_per_quali_df.loc[table_with_best_per_quali_df['diff_ms_with_1st_in_quali'].isna(), 'tiempo_ms'] = np.nan\n",
    "\n",
    "# Como la columna en milisegundoso ya tiene NaN (los que no tienen resultados de quali y quedaron en 0 tras alguuna transformacion)\n",
    "# Ahora buscamos esas filas del diff en ms donde hay nan y el timedelta lo dejamos en NaN \n",
    "table_with_best_per_quali_df.loc[table_with_best_per_quali_df['diff_ms_with_1st_in_quali'].isna(), 'diff_TD_with_1st_in_quali'] = np.nan\n",
    "table_with_best_per_quali_df.loc[table_with_best_per_quali_df['diff_ms_with_1st_in_quali'].isna(), 'tiempo_TD'] = np.nan"
   ]
  },
  {
   "cell_type": "code",
   "execution_count": 67,
   "id": "0b072b2e-0f0e-46da-ba1a-e32c77bcd77b",
   "metadata": {},
   "outputs": [],
   "source": [
    "# Función para convertir Timedelta a formato \"HH:MM:SS.fff\"\n",
    "def convertir_a_formato(timedelta):\n",
    "    if timedelta is np.nan or timedelta is pd.NaT:\n",
    "        return None\n",
    "    total_seconds = timedelta.total_seconds()\n",
    "    hours = int(total_seconds // 3600)\n",
    "    minutes = int((total_seconds % 3600) // 60)\n",
    "    seconds = int(total_seconds % 60)\n",
    "    milliseconds = int((total_seconds % 1) * 1000)\n",
    "    return f\"{hours:02}:{minutes:02}:{seconds:02}.{milliseconds:03}\""
   ]
  },
  {
   "cell_type": "code",
   "execution_count": 80,
   "id": "e206575f-6cbd-49e5-9e32-d77c7a9abdf7",
   "metadata": {},
   "outputs": [
    {
     "ename": "AttributeError",
     "evalue": "'str' object has no attribute 'total_seconds'",
     "output_type": "error",
     "traceback": [
      "\u001b[1;31m---------------------------------------------------------------------------\u001b[0m",
      "\u001b[1;31mAttributeError\u001b[0m                            Traceback (most recent call last)",
      "Cell \u001b[1;32mIn[80], line 1\u001b[0m\n\u001b[1;32m----> 1\u001b[0m table_with_best_per_quali_df[\u001b[38;5;124m'\u001b[39m\u001b[38;5;124mtiempo_TD\u001b[39m\u001b[38;5;124m'\u001b[39m] \u001b[38;5;241m=\u001b[39m \u001b[43mtable_with_best_per_quali_df\u001b[49m\u001b[43m[\u001b[49m\u001b[38;5;124;43m'\u001b[39;49m\u001b[38;5;124;43mtiempo_TD\u001b[39;49m\u001b[38;5;124;43m'\u001b[39;49m\u001b[43m]\u001b[49m\u001b[38;5;241;43m.\u001b[39;49m\u001b[43mapply\u001b[49m\u001b[43m(\u001b[49m\u001b[43mconvertir_a_formato\u001b[49m\u001b[43m)\u001b[49m\n\u001b[0;32m      2\u001b[0m \u001b[38;5;66;03m# table_with_best_per_quali_df['diff_TD_with_1st_in_quali'] = table_with_best_per_quali_df['diff_TD_with_1st_in_quali'].apply(convertir_a_formato)\u001b[39;00m\n",
      "File \u001b[1;32m~\\AppData\\Local\\Programs\\Python\\Python311\\Lib\\site-packages\\pandas\\core\\series.py:4924\u001b[0m, in \u001b[0;36mSeries.apply\u001b[1;34m(self, func, convert_dtype, args, by_row, **kwargs)\u001b[0m\n\u001b[0;32m   4789\u001b[0m \u001b[38;5;28;01mdef\u001b[39;00m \u001b[38;5;21mapply\u001b[39m(\n\u001b[0;32m   4790\u001b[0m     \u001b[38;5;28mself\u001b[39m,\n\u001b[0;32m   4791\u001b[0m     func: AggFuncType,\n\u001b[1;32m   (...)\u001b[0m\n\u001b[0;32m   4796\u001b[0m     \u001b[38;5;241m*\u001b[39m\u001b[38;5;241m*\u001b[39mkwargs,\n\u001b[0;32m   4797\u001b[0m ) \u001b[38;5;241m-\u001b[39m\u001b[38;5;241m>\u001b[39m DataFrame \u001b[38;5;241m|\u001b[39m Series:\n\u001b[0;32m   4798\u001b[0m \u001b[38;5;250m    \u001b[39m\u001b[38;5;124;03m\"\"\"\u001b[39;00m\n\u001b[0;32m   4799\u001b[0m \u001b[38;5;124;03m    Invoke function on values of Series.\u001b[39;00m\n\u001b[0;32m   4800\u001b[0m \n\u001b[1;32m   (...)\u001b[0m\n\u001b[0;32m   4915\u001b[0m \u001b[38;5;124;03m    dtype: float64\u001b[39;00m\n\u001b[0;32m   4916\u001b[0m \u001b[38;5;124;03m    \"\"\"\u001b[39;00m\n\u001b[0;32m   4917\u001b[0m     \u001b[38;5;28;01mreturn\u001b[39;00m \u001b[43mSeriesApply\u001b[49m\u001b[43m(\u001b[49m\n\u001b[0;32m   4918\u001b[0m \u001b[43m        \u001b[49m\u001b[38;5;28;43mself\u001b[39;49m\u001b[43m,\u001b[49m\n\u001b[0;32m   4919\u001b[0m \u001b[43m        \u001b[49m\u001b[43mfunc\u001b[49m\u001b[43m,\u001b[49m\n\u001b[0;32m   4920\u001b[0m \u001b[43m        \u001b[49m\u001b[43mconvert_dtype\u001b[49m\u001b[38;5;241;43m=\u001b[39;49m\u001b[43mconvert_dtype\u001b[49m\u001b[43m,\u001b[49m\n\u001b[0;32m   4921\u001b[0m \u001b[43m        \u001b[49m\u001b[43mby_row\u001b[49m\u001b[38;5;241;43m=\u001b[39;49m\u001b[43mby_row\u001b[49m\u001b[43m,\u001b[49m\n\u001b[0;32m   4922\u001b[0m \u001b[43m        \u001b[49m\u001b[43margs\u001b[49m\u001b[38;5;241;43m=\u001b[39;49m\u001b[43margs\u001b[49m\u001b[43m,\u001b[49m\n\u001b[0;32m   4923\u001b[0m \u001b[43m        \u001b[49m\u001b[43mkwargs\u001b[49m\u001b[38;5;241;43m=\u001b[39;49m\u001b[43mkwargs\u001b[49m\u001b[43m,\u001b[49m\n\u001b[1;32m-> 4924\u001b[0m \u001b[43m    \u001b[49m\u001b[43m)\u001b[49m\u001b[38;5;241;43m.\u001b[39;49m\u001b[43mapply\u001b[49m\u001b[43m(\u001b[49m\u001b[43m)\u001b[49m\n",
      "File \u001b[1;32m~\\AppData\\Local\\Programs\\Python\\Python311\\Lib\\site-packages\\pandas\\core\\apply.py:1427\u001b[0m, in \u001b[0;36mSeriesApply.apply\u001b[1;34m(self)\u001b[0m\n\u001b[0;32m   1424\u001b[0m     \u001b[38;5;28;01mreturn\u001b[39;00m \u001b[38;5;28mself\u001b[39m\u001b[38;5;241m.\u001b[39mapply_compat()\n\u001b[0;32m   1426\u001b[0m \u001b[38;5;66;03m# self.func is Callable\u001b[39;00m\n\u001b[1;32m-> 1427\u001b[0m \u001b[38;5;28;01mreturn\u001b[39;00m \u001b[38;5;28;43mself\u001b[39;49m\u001b[38;5;241;43m.\u001b[39;49m\u001b[43mapply_standard\u001b[49m\u001b[43m(\u001b[49m\u001b[43m)\u001b[49m\n",
      "File \u001b[1;32m~\\AppData\\Local\\Programs\\Python\\Python311\\Lib\\site-packages\\pandas\\core\\apply.py:1507\u001b[0m, in \u001b[0;36mSeriesApply.apply_standard\u001b[1;34m(self)\u001b[0m\n\u001b[0;32m   1501\u001b[0m \u001b[38;5;66;03m# row-wise access\u001b[39;00m\n\u001b[0;32m   1502\u001b[0m \u001b[38;5;66;03m# apply doesn't have a `na_action` keyword and for backward compat reasons\u001b[39;00m\n\u001b[0;32m   1503\u001b[0m \u001b[38;5;66;03m# we need to give `na_action=\"ignore\"` for categorical data.\u001b[39;00m\n\u001b[0;32m   1504\u001b[0m \u001b[38;5;66;03m# TODO: remove the `na_action=\"ignore\"` when that default has been changed in\u001b[39;00m\n\u001b[0;32m   1505\u001b[0m \u001b[38;5;66;03m#  Categorical (GH51645).\u001b[39;00m\n\u001b[0;32m   1506\u001b[0m action \u001b[38;5;241m=\u001b[39m \u001b[38;5;124m\"\u001b[39m\u001b[38;5;124mignore\u001b[39m\u001b[38;5;124m\"\u001b[39m \u001b[38;5;28;01mif\u001b[39;00m \u001b[38;5;28misinstance\u001b[39m(obj\u001b[38;5;241m.\u001b[39mdtype, CategoricalDtype) \u001b[38;5;28;01melse\u001b[39;00m \u001b[38;5;28;01mNone\u001b[39;00m\n\u001b[1;32m-> 1507\u001b[0m mapped \u001b[38;5;241m=\u001b[39m \u001b[43mobj\u001b[49m\u001b[38;5;241;43m.\u001b[39;49m\u001b[43m_map_values\u001b[49m\u001b[43m(\u001b[49m\n\u001b[0;32m   1508\u001b[0m \u001b[43m    \u001b[49m\u001b[43mmapper\u001b[49m\u001b[38;5;241;43m=\u001b[39;49m\u001b[43mcurried\u001b[49m\u001b[43m,\u001b[49m\u001b[43m \u001b[49m\u001b[43mna_action\u001b[49m\u001b[38;5;241;43m=\u001b[39;49m\u001b[43maction\u001b[49m\u001b[43m,\u001b[49m\u001b[43m \u001b[49m\u001b[43mconvert\u001b[49m\u001b[38;5;241;43m=\u001b[39;49m\u001b[38;5;28;43mself\u001b[39;49m\u001b[38;5;241;43m.\u001b[39;49m\u001b[43mconvert_dtype\u001b[49m\n\u001b[0;32m   1509\u001b[0m \u001b[43m\u001b[49m\u001b[43m)\u001b[49m\n\u001b[0;32m   1511\u001b[0m \u001b[38;5;28;01mif\u001b[39;00m \u001b[38;5;28mlen\u001b[39m(mapped) \u001b[38;5;129;01mand\u001b[39;00m \u001b[38;5;28misinstance\u001b[39m(mapped[\u001b[38;5;241m0\u001b[39m], ABCSeries):\n\u001b[0;32m   1512\u001b[0m     \u001b[38;5;66;03m# GH#43986 Need to do list(mapped) in order to get treated as nested\u001b[39;00m\n\u001b[0;32m   1513\u001b[0m     \u001b[38;5;66;03m#  See also GH#25959 regarding EA support\u001b[39;00m\n\u001b[0;32m   1514\u001b[0m     \u001b[38;5;28;01mreturn\u001b[39;00m obj\u001b[38;5;241m.\u001b[39m_constructor_expanddim(\u001b[38;5;28mlist\u001b[39m(mapped), index\u001b[38;5;241m=\u001b[39mobj\u001b[38;5;241m.\u001b[39mindex)\n",
      "File \u001b[1;32m~\\AppData\\Local\\Programs\\Python\\Python311\\Lib\\site-packages\\pandas\\core\\base.py:921\u001b[0m, in \u001b[0;36mIndexOpsMixin._map_values\u001b[1;34m(self, mapper, na_action, convert)\u001b[0m\n\u001b[0;32m    918\u001b[0m \u001b[38;5;28;01mif\u001b[39;00m \u001b[38;5;28misinstance\u001b[39m(arr, ExtensionArray):\n\u001b[0;32m    919\u001b[0m     \u001b[38;5;28;01mreturn\u001b[39;00m arr\u001b[38;5;241m.\u001b[39mmap(mapper, na_action\u001b[38;5;241m=\u001b[39mna_action)\n\u001b[1;32m--> 921\u001b[0m \u001b[38;5;28;01mreturn\u001b[39;00m \u001b[43malgorithms\u001b[49m\u001b[38;5;241;43m.\u001b[39;49m\u001b[43mmap_array\u001b[49m\u001b[43m(\u001b[49m\u001b[43marr\u001b[49m\u001b[43m,\u001b[49m\u001b[43m \u001b[49m\u001b[43mmapper\u001b[49m\u001b[43m,\u001b[49m\u001b[43m \u001b[49m\u001b[43mna_action\u001b[49m\u001b[38;5;241;43m=\u001b[39;49m\u001b[43mna_action\u001b[49m\u001b[43m,\u001b[49m\u001b[43m \u001b[49m\u001b[43mconvert\u001b[49m\u001b[38;5;241;43m=\u001b[39;49m\u001b[43mconvert\u001b[49m\u001b[43m)\u001b[49m\n",
      "File \u001b[1;32m~\\AppData\\Local\\Programs\\Python\\Python311\\Lib\\site-packages\\pandas\\core\\algorithms.py:1743\u001b[0m, in \u001b[0;36mmap_array\u001b[1;34m(arr, mapper, na_action, convert)\u001b[0m\n\u001b[0;32m   1741\u001b[0m values \u001b[38;5;241m=\u001b[39m arr\u001b[38;5;241m.\u001b[39mastype(\u001b[38;5;28mobject\u001b[39m, copy\u001b[38;5;241m=\u001b[39m\u001b[38;5;28;01mFalse\u001b[39;00m)\n\u001b[0;32m   1742\u001b[0m \u001b[38;5;28;01mif\u001b[39;00m na_action \u001b[38;5;129;01mis\u001b[39;00m \u001b[38;5;28;01mNone\u001b[39;00m:\n\u001b[1;32m-> 1743\u001b[0m     \u001b[38;5;28;01mreturn\u001b[39;00m \u001b[43mlib\u001b[49m\u001b[38;5;241;43m.\u001b[39;49m\u001b[43mmap_infer\u001b[49m\u001b[43m(\u001b[49m\u001b[43mvalues\u001b[49m\u001b[43m,\u001b[49m\u001b[43m \u001b[49m\u001b[43mmapper\u001b[49m\u001b[43m,\u001b[49m\u001b[43m \u001b[49m\u001b[43mconvert\u001b[49m\u001b[38;5;241;43m=\u001b[39;49m\u001b[43mconvert\u001b[49m\u001b[43m)\u001b[49m\n\u001b[0;32m   1744\u001b[0m \u001b[38;5;28;01melse\u001b[39;00m:\n\u001b[0;32m   1745\u001b[0m     \u001b[38;5;28;01mreturn\u001b[39;00m lib\u001b[38;5;241m.\u001b[39mmap_infer_mask(\n\u001b[0;32m   1746\u001b[0m         values, mapper, mask\u001b[38;5;241m=\u001b[39misna(values)\u001b[38;5;241m.\u001b[39mview(np\u001b[38;5;241m.\u001b[39muint8), convert\u001b[38;5;241m=\u001b[39mconvert\n\u001b[0;32m   1747\u001b[0m     )\n",
      "File \u001b[1;32mlib.pyx:2972\u001b[0m, in \u001b[0;36mpandas._libs.lib.map_infer\u001b[1;34m()\u001b[0m\n",
      "Cell \u001b[1;32mIn[67], line 5\u001b[0m, in \u001b[0;36mconvertir_a_formato\u001b[1;34m(timedelta)\u001b[0m\n\u001b[0;32m      3\u001b[0m \u001b[38;5;28;01mif\u001b[39;00m timedelta \u001b[38;5;129;01mis\u001b[39;00m np\u001b[38;5;241m.\u001b[39mnan \u001b[38;5;129;01mor\u001b[39;00m timedelta \u001b[38;5;129;01mis\u001b[39;00m pd\u001b[38;5;241m.\u001b[39mNaT:\n\u001b[0;32m      4\u001b[0m     \u001b[38;5;28;01mreturn\u001b[39;00m \u001b[38;5;28;01mNone\u001b[39;00m\n\u001b[1;32m----> 5\u001b[0m total_seconds \u001b[38;5;241m=\u001b[39m \u001b[43mtimedelta\u001b[49m\u001b[38;5;241;43m.\u001b[39;49m\u001b[43mtotal_seconds\u001b[49m()\n\u001b[0;32m      6\u001b[0m hours \u001b[38;5;241m=\u001b[39m \u001b[38;5;28mint\u001b[39m(total_seconds \u001b[38;5;241m/\u001b[39m\u001b[38;5;241m/\u001b[39m \u001b[38;5;241m3600\u001b[39m)\n\u001b[0;32m      7\u001b[0m minutes \u001b[38;5;241m=\u001b[39m \u001b[38;5;28mint\u001b[39m((total_seconds \u001b[38;5;241m%\u001b[39m \u001b[38;5;241m3600\u001b[39m) \u001b[38;5;241m/\u001b[39m\u001b[38;5;241m/\u001b[39m \u001b[38;5;241m60\u001b[39m)\n",
      "\u001b[1;31mAttributeError\u001b[0m: 'str' object has no attribute 'total_seconds'"
     ]
    }
   ],
   "source": [
    "table_with_best_per_quali_df['tiempo_TD'] = table_with_best_per_quali_df['tiempo_TD'].apply(convertir_a_formato)\n",
    "table_with_best_per_quali_df['diff_TD_with_1st_in_quali'] = table_with_best_per_quali_df['diff_TD_with_1st_in_quali'].apply(convertir_a_formato)"
   ]
  },
  {
   "cell_type": "markdown",
   "id": "cddb878a-758c-43e1-aff1-bf8263fe3b44",
   "metadata": {},
   "source": [
    "# Pendiente\n",
    "**Principal**:\n",
    "-  corregir diff_TD_with_1st_in_quali a formato de Power BI\n",
    "\n",
    "**Segundario**\n",
    "- Corregir procesos para que sea en mas sencillo la transformacion al formato adecuado de Power BI"
   ]
  },
  {
   "cell_type": "code",
   "execution_count": 73,
   "id": "b2971a11-3e13-4499-a00e-03950a5eee75",
   "metadata": {},
   "outputs": [],
   "source": [
    "# Exportacion ded la tabla agrupada de los tiempos\n",
    "table_with_best_per_quali_df.to_csv('grouped_season_race_drive_nq.csv', index=False)"
   ]
  }
 ],
 "metadata": {
  "kernelspec": {
   "display_name": "Python (venv)",
   "language": "python",
   "name": "venv"
  },
  "language_info": {
   "codemirror_mode": {
    "name": "ipython",
    "version": 3
   },
   "file_extension": ".py",
   "mimetype": "text/x-python",
   "name": "python",
   "nbconvert_exporter": "python",
   "pygments_lexer": "ipython3",
   "version": "3.11.9"
  }
 },
 "nbformat": 4,
 "nbformat_minor": 5
}
