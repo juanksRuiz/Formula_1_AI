{
 "cells": [
  {
   "cell_type": "markdown",
   "id": "df199ef8-1f11-4517-939b-0b19658244e8",
   "metadata": {},
   "source": [
    "# Consolidacion de datos de F1\n",
    "\n",
    "La idea de este archivo es probar el flujo de las funciones creadas. Para traer los datos de la API, preprocesarlos y tener una tabla final consolidada con las distintas fuentes de datos."
   ]
  },
  {
   "cell_type": "code",
   "execution_count": 46,
   "id": "151238e7-f252-47e4-918f-22cc768cbdae",
   "metadata": {},
   "outputs": [],
   "source": [
    "# Module imports\n",
    "from jolpica_connection import *\n",
    "import pandas as pd\n",
    "import numpy as np"
   ]
  },
  {
   "cell_type": "markdown",
   "id": "d42b272c-4e63-4d8a-a68c-a1e034bfd569",
   "metadata": {},
   "source": [
    "## 1. Extraccion y transformacion de datos"
   ]
  },
  {
   "cell_type": "markdown",
   "id": "def464e2-bcaa-4ce4-9a40-723f69647abe",
   "metadata": {},
   "source": [
    "### Definicion de parametros iniciales del modelo"
   ]
  },
  {
   "cell_type": "code",
   "execution_count": 23,
   "id": "1b6e8eb6-97c4-4233-b644-9ee1b49f5176",
   "metadata": {},
   "outputs": [],
   "source": [
    "# Se calculara los resultados con las 10 carreras anteriores.\n",
    "season_years = [2022, 2023]\n",
    "round_wdw = 10\n",
    "prediction_round = 11 # si es inferior a 10, crear flujo para las carreras\n",
    "# de la ronda anterior"
   ]
  },
  {
   "cell_type": "markdown",
   "id": "434cbce0-6309-4a4c-a2c9-06459fd45202",
   "metadata": {},
   "source": [
    "### Obtener la tabla preprocesada de los tiempos de Qualis\n",
    "**PENDIENTE: Falta agregar los datos de la carrera para cada ronda**"
   ]
  },
  {
   "cell_type": "code",
   "execution_count": 30,
   "id": "d553a9a1-3307-4feb-abe6-83f34738ef81",
   "metadata": {},
   "outputs": [
    {
     "name": "stdout",
     "output_type": "stream",
     "text": [
      "Collecting data from season 2023...\n",
      "Data collection from season 2023 successful!\n",
      "Concatenating data...\n",
      "Data from all rounds concatenated!\n"
     ]
    }
   ],
   "source": [
    "# En caso de que la ronda que se quiera predecir necesite de la cantidad de datos de la misma temporada\n",
    "if prediction_round > round_wdw:\n",
    "    # Se obtiene todos los datos de la temporada de la ronda cuyos resultados se quiere predecir\n",
    "    max_season = max(season_years)\n",
    "    print('Collecting  data from season {temp}...'.format(temp=max_season))\n",
    "    season_data = get_season_qualifying_results(max_season)\n",
    "    print('Data collection from season {temp} successful!'.format(temp=max_season))\n",
    "    print('Concatenating data...')\n",
    "\n",
    "    # Se buscan los datos de las N rondas anteriores a la ronda que se quiere predecir\n",
    "    # N es la cantidad de rondas  \n",
    "    for i in range(prediction_round-round_wdw, prediction_round):\n",
    "        round_df = get_round_results(season_data, i)\n",
    "        if i == prediction_round-round_wdw:\n",
    "            all_qualis_df = round_df\n",
    "            break # Prueba para los datos de la primera ronda, quitar esta linea para todos los datos anteriores\n",
    "        else:\n",
    "            all_qualis_df = pd.concat([all_qualis_df, round_df], axis=0)\n",
    "    print('Data from all rounds concatenated!')"
   ]
  },
  {
   "cell_type": "code",
   "execution_count": 36,
   "id": "34084d97-6162-4465-b51f-c7edd5c9ebe0",
   "metadata": {},
   "outputs": [
    {
     "name": "stdout",
     "output_type": "stream",
     "text": [
      "Preprocessing all rounds data...\n",
      "Preprocessing successful\n"
     ]
    }
   ],
   "source": [
    "print('Preprocessing all rounds data...')\n",
    "qualis_df = preprocess_round_data(all_qualis_df)\n",
    "print('Preprocessing successful')"
   ]
  },
  {
   "cell_type": "code",
   "execution_count": 48,
   "id": "2f1c5b48-bdf5-4018-848a-e53300bc5605",
   "metadata": {},
   "outputs": [],
   "source": [
    "# Marcar con uno o 0 si el piloto paso califico de Q1 a Q2 y de Q2 a Q3\n",
    "#df['new_column'] = np.where(df['best_q2'].isna(), 0, 1)\n",
    "qualis_df['qualifies_to_Q2'] = np.where(qualis_df['best_time_Q2'].isna(), 0, 1)\n",
    "qualis_df['qualifies_to_Q3'] = np.where(qualis_df['best_time_Q3'].isna(), 0, 1)"
   ]
  },
  {
   "cell_type": "code",
   "execution_count": null,
   "id": "61a52b09-e5b7-4a10-97b3-8229be2661b9",
   "metadata": {},
   "outputs": [],
   "source": [
    "# Falta agregar datos de la ronda de la cual se predice resultados\n",
    "# incluye los datos de Qualis y datos de la carrera"
   ]
  },
  {
   "cell_type": "markdown",
   "id": "a2ca4c23-45f9-4155-9502-247b9e20fd9b",
   "metadata": {},
   "source": [
    "## 2. Analisis Exploratorio de Datos\n",
    "**Realizar EDA en otro notebook**\n",
    "\n",
    "Explorar 2 relaciones especificamente:\n",
    "- Relacion de los resultados de la quali de la misma ronda con los resultados de la carrera de esa ronda\n",
    "- Relacion entre los resultados de rondas anteriores con los de la carrera de la ronda a predecir."
   ]
  },
  {
   "cell_type": "code",
   "execution_count": null,
   "id": "7fed3448-e356-4557-bba1-1aa19e2da670",
   "metadata": {},
   "outputs": [],
   "source": []
  }
 ],
 "metadata": {
  "kernelspec": {
   "display_name": "Python (myenv)",
   "language": "python",
   "name": "myenv"
  },
  "language_info": {
   "codemirror_mode": {
    "name": "ipython",
    "version": 3
   },
   "file_extension": ".py",
   "mimetype": "text/x-python",
   "name": "python",
   "nbconvert_exporter": "python",
   "pygments_lexer": "ipython3",
   "version": "3.9.20"
  }
 },
 "nbformat": 4,
 "nbformat_minor": 5
}
